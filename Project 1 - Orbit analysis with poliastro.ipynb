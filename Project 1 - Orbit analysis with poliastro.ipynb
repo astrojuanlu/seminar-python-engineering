{
 "cells": [
  {
   "cell_type": "markdown",
   "metadata": {},
   "source": [
    "# Project 1 - Orbit analysis with poliastro\n",
    "\n",
    "![poliastro logo](https://docs.poliastro.space/en/latest/_images/logo_text.png)\n",
    "\n",
    "**poliastro** is a Python library for interactive Astrodynamics. It provides a simple and intuitive API, handles physical quantities with units, and offers both 2D and 3D plotting. It is available under a permissive, commercial-friendly open source license (MIT).\n",
    "\n",
    "Some of its capabilities are:\n",
    "\n",
    "- Analytical and numerical orbit propagation\n",
    "- Conversion between position and velocity vectors and classical orbital elements\n",
    "- Hohmann and bielliptic maneuvers computation\n",
    "- Natural perturbations\n",
    "- Several optimal low-thrust guidance laws\n",
    "- Trajectory plotting, porkchop plots, Tisserand graphs, groundtrack plots\n",
    "- Initial orbit determination (Lambert problem)\n",
    "- Easy loading of ephemerides for Solar System bodies\n",
    "\n",
    "It leverages several powerful libraries, like numba, Astropy, SciPy, Plotly and others.\n",
    "\n",
    "- **Documentation**: https://docs.poliastro.space/en/stable/\n",
    "- **Source code**: https://github.com/poliastro/poliastro/"
   ]
  },
  {
   "cell_type": "markdown",
   "metadata": {},
   "source": [
    "## `Orbit` and `Quantity` objects"
   ]
  },
  {
   "cell_type": "markdown",
   "metadata": {},
   "source": [
    "The core of poliastro are the `Orbit` objects inside the `poliastro.twobody` module. They store all the required information to define an orbit:\n",
    "\n",
    "- The body acting as the central body of the orbit, for example the Earth.\n",
    "- The position and velocity vectors or the orbital elements.\n",
    "- The time (epoch) at which the orbit is defined.\n",
    "\n",
    "Let's load a example orbit of the International Space Station:"
   ]
  },
  {
   "cell_type": "code",
   "execution_count": null,
   "metadata": {},
   "outputs": [],
   "source": [
    "from poliastro.examples import iss"
   ]
  },
  {
   "cell_type": "markdown",
   "metadata": {},
   "source": [
    "If we display the object itself, it shows some basic information:"
   ]
  },
  {
   "cell_type": "code",
   "execution_count": null,
   "metadata": {},
   "outputs": [],
   "source": [
    "iss"
   ]
  },
  {
   "cell_type": "markdown",
   "metadata": {},
   "source": [
    "We can access individual orbital elements from this `Orbit`, for example:"
   ]
  },
  {
   "cell_type": "code",
   "execution_count": null,
   "metadata": {},
   "outputs": [],
   "source": [
    "iss.a  # Semimajor axis"
   ]
  },
  {
   "cell_type": "code",
   "execution_count": null,
   "metadata": {},
   "outputs": [],
   "source": [
    "iss.ecc  # Eccentricity"
   ]
  },
  {
   "cell_type": "code",
   "execution_count": null,
   "metadata": {},
   "outputs": [],
   "source": [
    "iss.v  # Velocity vector"
   ]
  },
  {
   "cell_type": "markdown",
   "metadata": {},
   "source": [
    "Notice that all these values have physical units, because they are `astropy.units.Quantity` objects:"
   ]
  },
  {
   "cell_type": "code",
   "execution_count": null,
   "metadata": {},
   "outputs": [],
   "source": [
    "from astropy import units as u"
   ]
  },
  {
   "cell_type": "code",
   "execution_count": null,
   "metadata": {},
   "outputs": [],
   "source": [
    "iss.r_p.to(u.m)  # Radius of periapsis, in meters"
   ]
  },
  {
   "cell_type": "code",
   "execution_count": null,
   "metadata": {},
   "outputs": [],
   "source": [
    "iss.raan.to(u.deg)  # Right ascension of the ascending node, in degrees"
   ]
  },
  {
   "cell_type": "markdown",
   "metadata": {},
   "source": [
    "And if we mix `Quantity`es with different units, we get the expected result:"
   ]
  },
  {
   "cell_type": "code",
   "execution_count": null,
   "metadata": {},
   "outputs": [],
   "source": [
    "iss.attractor.R  # Radius of the attractor, in this case the Earth, in meters"
   ]
  },
  {
   "cell_type": "code",
   "execution_count": null,
   "metadata": {},
   "outputs": [],
   "source": [
    "# 400 * u.km creates a Quantity object\n",
    "iss.attractor.R + 400 * u.km  # Units are operated correctly"
   ]
  },
  {
   "cell_type": "markdown",
   "metadata": {},
   "source": [
    "Besides, we can easily produce a schematic plot of the orbit. There are three kinds:\n",
    "\n",
    "- Static, 2D\n",
    "- Interactive, 2D\n",
    "- Interactive, 3D"
   ]
  },
  {
   "cell_type": "code",
   "execution_count": null,
   "metadata": {},
   "outputs": [],
   "source": [
    "iss.plot()"
   ]
  },
  {
   "cell_type": "code",
   "execution_count": null,
   "metadata": {},
   "outputs": [],
   "source": [
    "iss.plot(interactive=True)"
   ]
  },
  {
   "cell_type": "code",
   "execution_count": null,
   "metadata": {},
   "outputs": [],
   "source": [
    "iss.plot(use_3d=True, interactive=True)"
   ]
  },
  {
   "cell_type": "markdown",
   "metadata": {},
   "source": [
    "To create our own `Orbit` object, we can do it using either cartesian or classical elements:"
   ]
  },
  {
   "cell_type": "code",
   "execution_count": null,
   "metadata": {},
   "outputs": [],
   "source": [
    "from poliastro.bodies import Earth\n",
    "from poliastro.twobody import Orbit"
   ]
  },
  {
   "cell_type": "code",
   "execution_count": null,
   "metadata": {},
   "outputs": [],
   "source": [
    "Orbit.from_vectors(\n",
    "    Earth,                   # Attractor\n",
    "    [7000, 0, 0] * u.km,     # Position vector\n",
    "    [0, 8, 0] * u.km / u.s,  # Velocity vector\n",
    ")"
   ]
  },
  {
   "cell_type": "code",
   "execution_count": null,
   "metadata": {},
   "outputs": [],
   "source": [
    "from astropy.time import Time"
   ]
  },
  {
   "cell_type": "code",
   "execution_count": null,
   "metadata": {},
   "outputs": [],
   "source": [
    "Orbit.from_classical(\n",
    "    Earth,\n",
    "    7000 * u.km,   # Semimajor axis\n",
    "    0.01 * u.one,  # Eccentricity\n",
    "    35 * u.deg,    # Inclination\n",
    "    200 * u.deg,   # Right ascension of the ascending node\n",
    "    0 * u.deg,     # Argument of periapsis\n",
    "    90 * u.deg,    # True anomaly,\n",
    "    Time.now(),    # Epoch (default is J2000)\n",
    ")"
   ]
  },
  {
   "cell_type": "markdown",
   "metadata": {},
   "source": [
    "## Let's go to Venus!\n",
    "\n",
    "![Phosphine in Venus' atmosphere, Nature Astronomy](img/nature-phosphine.png)\n",
    "\n",
    "Could we go to Venus within two years? To find out, we can use a tool called [Porkchop plots](https://en.wikipedia.org/wiki/Porkchop_plot), available in poliastro."
   ]
  },
  {
   "cell_type": "code",
   "execution_count": null,
   "metadata": {},
   "outputs": [],
   "source": [
    "from poliastro.plotting.porkchop import PorkchopPlotter\n",
    "from poliastro.bodies import Earth, Venus\n",
    "from poliastro.util import time_range\n",
    "\n",
    "launch_window = time_range(\"2021-03-21\", end=\"2022-03-21\", periods=100)\n",
    "arrival_window = time_range(\"2021-11-21\", end=\"2022-06-21\", periods=100)"
   ]
  },
  {
   "cell_type": "code",
   "execution_count": null,
   "metadata": {},
   "outputs": [],
   "source": [
    "porkchop_plot = PorkchopPlotter(\n",
    "    Earth,  # Origin\n",
    "    Venus,  # Destination\n",
    "    launch_window,\n",
    "    arrival_window,\n",
    ")\n",
    "(\n",
    "    dv_dpt,  # Δv departure\n",
    "    dv_arr,  # Δv arrival\n",
    "    c3_dpt,   # C3 departure\n",
    "    c3_arr,   # C3 arrival\n",
    "    tof      # Time of flight\n",
    ") = porkchop_plot.porkchop()"
   ]
  },
  {
   "cell_type": "markdown",
   "metadata": {},
   "source": [
    "The colored contours represent the departure characteristic energy $C_3$ the the red straight lines represent the time of flight (difference between departure and arrival).\n",
    "\n",
    "Visually, we can see that there are two good launch opportunities around October 2021, the best one with arrival around April 2022. Let us compute the exact dates:"
   ]
  },
  {
   "cell_type": "code",
   "execution_count": null,
   "metadata": {},
   "outputs": [],
   "source": [
    "import numpy as np\n",
    "\n",
    "def get_minimum(c3, dv_dpt, dv_arr, launch_window, arrival_window):\n",
    "    \"\"\"Gets minimum C3 and corresponding launch and arrival dates.\"\"\"\n",
    "    index_arrival, index_launch = np.unravel_index(np.nanargmin(c3, axis=None), c3.shape)\n",
    "    return (\n",
    "        c3[index_arrival, index_launch],\n",
    "        dv_dpt[index_arrival, index_launch],\n",
    "        dv_arr[index_arrival, index_launch],\n",
    "        launch_window[index_launch],\n",
    "        arrival_window[index_arrival],\n",
    "    )"
   ]
  },
  {
   "cell_type": "code",
   "execution_count": null,
   "metadata": {},
   "outputs": [],
   "source": [
    "c3_min, dv_dpt_opt, dv_arr_opt, launch_date, arrival_date = get_minimum(\n",
    "    c3_dpt, dv_dpt, dv_arr, launch_window, arrival_window\n",
    ")"
   ]
  },
  {
   "cell_type": "code",
   "execution_count": null,
   "metadata": {},
   "outputs": [],
   "source": [
    "c3_min"
   ]
  },
  {
   "cell_type": "code",
   "execution_count": null,
   "metadata": {},
   "outputs": [],
   "source": [
    "dv_dpt_opt + dv_arr_opt"
   ]
  },
  {
   "cell_type": "code",
   "execution_count": null,
   "metadata": {},
   "outputs": [],
   "source": [
    "launch_date"
   ]
  },
  {
   "cell_type": "code",
   "execution_count": null,
   "metadata": {},
   "outputs": [],
   "source": [
    "arrival_date"
   ]
  },
  {
   "cell_type": "markdown",
   "metadata": {},
   "source": [
    "### Retrieving the ephemerides of the planets\n",
    "\n",
    "poliastro has an easy interface to the JPL high precision planetary ephemerides, and can also compute position and velocity of the planets using approximate ones:"
   ]
  },
  {
   "cell_type": "code",
   "execution_count": null,
   "metadata": {},
   "outputs": [],
   "source": [
    "from poliastro.bodies import Sun\n",
    "from poliastro.ephem import Ephem"
   ]
  },
  {
   "cell_type": "code",
   "execution_count": null,
   "metadata": {},
   "outputs": [],
   "source": [
    "epochs = time_range(launch_date.tdb, end=arrival_date.tdb)"
   ]
  },
  {
   "cell_type": "code",
   "execution_count": null,
   "metadata": {},
   "outputs": [],
   "source": [
    "earth = Ephem.from_body(Earth, epochs)\n",
    "venus = Ephem.from_body(Venus, epochs)"
   ]
  },
  {
   "cell_type": "code",
   "execution_count": null,
   "metadata": {},
   "outputs": [],
   "source": [
    "earth"
   ]
  },
  {
   "cell_type": "markdown",
   "metadata": {},
   "source": [
    "### Solving the boundary value problem\n",
    "\n",
    "Next, let us solve the boundary value problem (Lambert problem). We will neglect the launch and injection and assume that our spacecraft departs with the position and velocity of the Earth at the launch date. Let us extract the initial and final osculating orbits:"
   ]
  },
  {
   "cell_type": "code",
   "execution_count": null,
   "metadata": {},
   "outputs": [],
   "source": [
    "from poliastro.maneuver import Maneuver"
   ]
  },
  {
   "cell_type": "code",
   "execution_count": null,
   "metadata": {},
   "outputs": [],
   "source": [
    "earth_dpt = Orbit.from_ephem(Sun, earth, launch_date.tdb)\n",
    "earth_dpt"
   ]
  },
  {
   "cell_type": "code",
   "execution_count": null,
   "metadata": {},
   "outputs": [],
   "source": [
    "venus_arr = Orbit.from_ephem(Sun, venus, arrival_date.tdb)\n",
    "venus_arr"
   ]
  },
  {
   "cell_type": "code",
   "execution_count": null,
   "metadata": {},
   "outputs": [],
   "source": [
    "man = Maneuver.lambert(\n",
    "    earth_dpt,\n",
    "    venus_arr,\n",
    ")\n",
    "man"
   ]
  },
  {
   "cell_type": "markdown",
   "metadata": {},
   "source": [
    "Notice that the total cost of the maneuver matches the one we obtained finding the minimum $C_3$ earlier. Now, we can apply this `Maneuver` object to the departure orbit to obtain the transfer arc:"
   ]
  },
  {
   "cell_type": "code",
   "execution_count": null,
   "metadata": {},
   "outputs": [],
   "source": [
    "earth_venus_arc, _ = earth_dpt.apply_maneuver(man, intermediate=True)\n",
    "earth_venus_arc"
   ]
  },
  {
   "cell_type": "markdown",
   "metadata": {},
   "source": [
    "### Visualizing everything\n",
    "\n",
    "Finally, let us visualize the position of the Earth and Venus on departure and arrival, as well as our transfer arc:"
   ]
  },
  {
   "cell_type": "code",
   "execution_count": null,
   "metadata": {},
   "outputs": [],
   "source": [
    "from poliastro.plotting import OrbitPlotter3D\n",
    "from poliastro.twobody.propagation import propagate"
   ]
  },
  {
   "cell_type": "code",
   "execution_count": null,
   "metadata": {},
   "outputs": [],
   "source": [
    "plotter = OrbitPlotter3D()\n",
    "\n",
    "plotter.plot_body_orbit(Earth, launch_date.tdb)\n",
    "plotter.plot_body_orbit(Venus, arrival_date.tdb)\n",
    "plotter.plot_trajectory(\n",
    "    propagate(earth_venus_arc, epochs - launch_date),  # Propagate between launch and arrival\n",
    "    label=\"Earth-Venus transfer\",\n",
    "    color=\"black\",\n",
    ")"
   ]
  },
  {
   "cell_type": "markdown",
   "metadata": {},
   "source": [
    "## Questions\n",
    "\n",
    "1. If we miss the opportunity window of October 2021, when will be the next one?\n",
    "2. What is the $\\Delta V$ cost of the Lambert transfer for that opportunity?\n",
    "3. Compute $||\\vec{r}||$ of Venus at arrival\n",
    "4. Using the value above and `Maneuver.hohmann` ([documentation](https://docs.poliastro.space/en/stable/api/safe/maneuver.html#poliastro.maneuver.Maneuver.hohmann)), find out what would be the theoretical minimum cost of a Earth-Venus transfer (this assumes circular and coplanar orbits)"
   ]
  }
 ],
 "metadata": {
  "kernelspec": {
   "display_name": "Python 3 (ipykernel)",
   "language": "python",
   "name": "python3"
  },
  "language_info": {
   "codemirror_mode": {
    "name": "ipython",
    "version": 3
   },
   "file_extension": ".py",
   "mimetype": "text/x-python",
   "name": "python",
   "nbconvert_exporter": "python",
   "pygments_lexer": "ipython3",
   "version": "3.9.7"
  }
 },
 "nbformat": 4,
 "nbformat_minor": 4
}

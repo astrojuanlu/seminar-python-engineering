{
 "cells": [
  {
   "cell_type": "markdown",
   "metadata": {
    "slideshow": {
     "slide_type": "slide"
    }
   },
   "source": [
    "<header style=\"background-image: url('img/rocket.jpg'); background-size: cover; padding: 50px 0;font-size: 1.5em;background-repeat: no-repeat;\">\n",
    "  <div style=\"padding: 10px 25px; background-color: #fff9 !important;\">\n",
    "      <h1 style=\"color: black;text-shadow: #999 5px 5px 0px\">Do engineers dream of electric snakes?</h1>\n",
    "      <h2 style=\"color: #eee;\">1. Use of Python in the Aerospace industry</h2>\n",
    "      <h3 style=\"color: #eee;text-align: right;font-size: 1em;\">Juan Luis Cano Rodríguez &lt;hello@juanlu.space&gt;<br>2020-09-17 @ UC3M</h3>\n",
    "  </div>\n",
    "</header>"
   ]
  },
  {
   "cell_type": "markdown",
   "metadata": {
    "slideshow": {
     "slide_type": "slide"
    }
   },
   "source": [
    "# Outline\n",
    "\n",
    "0. Introduction\n",
    "1. **Use of Python in the Aerospace industry**\n",
    "  - New Space and Open Source software\n",
    "  - The scientific Python ecosystem\n",
    "  - Projects\n",
    "    - Setup\n",
    "    - Orbit analysis with poliastro\n",
    "    - Symbolic computation with SymPy\n",
    "    - Satellite imagery analysis with rasterio et al.\n",
    "2. Lifecycle of a software project"
   ]
  },
  {
   "cell_type": "markdown",
   "metadata": {
    "slideshow": {
     "slide_type": "notes"
    }
   },
   "source": [
    "# Outline\n",
    "\n",
    "0. Introduction\n",
    "1. **Use of Python in the Aerospace industry**\n",
    "  - New Space and Open Source software (30 minutes)\n",
    "    - Standardization\n",
    "    - CubeSats and other form factors\n",
    "    - Open Source as a form of standardization\n",
    "    - SpaceX and Linux\n",
    "    - Satellogic, Linux & Python\n",
    "    - The downsides of custom built software\n",
    "    - Scripting to combine the best of both worlds\n",
    "  - The scientific Python ecosystem (20 minutes)\n",
    "    - Brief history\n",
    "    - Current status, applications\n",
    "    - NumPy\n",
    "    - SciPy\n",
    "    - pandas\n",
    "    - Other packages\n",
    "  - Projects\n",
    "    - Setup (10 minutes)\n",
    "    - Orbit analysis with poliastro (15 minutes)\n",
    "    - Symbolic computation with SymPy (15 minutes)\n",
    "    - Predictive maintenance with pandas and scikit-learn (15 minutes)\n",
    "      - Or any other classical machine learning example with tabular data\n",
    "    - Satellite imagery analysis with rasterio, xarray and dask (15 minutes)\n",
    "2. Lifecycle of a software project"
   ]
  },
  {
   "cell_type": "markdown",
   "metadata": {
    "slideshow": {
     "slide_type": "slide"
    }
   },
   "source": [
    "# Who is this guy?\n",
    "\n",
    "* **Aerospace Engineer** with a passion for orbits 🛰\n",
    "* Former chair of the **Python España** non profit and former co-organizer of **PyCon Spain** 🐍\n",
    "* **Mission Planning & Execution Engineer** at **Satellogic** 🌍\n",
    "* Free Software advocate and Python enthusiast 🕮\n",
    "* Hard Rock lover 🎸\n",
    "\n",
    "Follow me! https://github.com/astrojuanlu/\n",
    "\n",
    "![Me!](img/juanlu_esa.jpg)"
   ]
  },
  {
   "cell_type": "markdown",
   "metadata": {
    "slideshow": {
     "slide_type": "subslide"
    }
   },
   "source": [
    "## Abridged CV\n",
    "\n",
    "- **Airbus** (2014-2015): **Python** for Graphical User Interfaces, data analysis, Excel automation\n",
    "- **GMV** (2015-2016): **Fortran** for Flight Dynamics software\n",
    "- **BBVA** (2016): **Python** for _more complex_ Excel automation, reporting\n",
    "- **Boeing R&T** (2016-2017, freelance): **Python** for flight trajectory prediction\n",
    "- **Synergic Partners (Telefónica)** (2016-2017): **Python** for Data Science, anomaly detection\n",
    "- **Satellogic** (2017-present): **Python** for geospatial processing, orbit analysis, scheduling optimization, in-orbit execution\n",
    "- **Deep Blue Globe** (2018-2019, freelance): **Python** for climate data processing"
   ]
  },
  {
   "cell_type": "markdown",
   "metadata": {
    "slideshow": {
     "slide_type": "slide"
    }
   },
   "source": [
    "# New Space and Open Source software"
   ]
  },
  {
   "cell_type": "markdown",
   "metadata": {
    "slideshow": {
     "slide_type": "subslide"
    }
   },
   "source": [
    "![Old phone chargers](img/old-phone-chargers.png)\n",
    "\n",
    "This is how phone chargers looked **before** standardization"
   ]
  },
  {
   "cell_type": "markdown",
   "metadata": {
    "slideshow": {
     "slide_type": "subslide"
    }
   },
   "source": [
    "![USB Micro-B](img/usb-micro-b.jpg)\n",
    "\n",
    "- Micro-USB was endorsed as the standard connector for data and power on mobile devices by the cellular phone carrier group Open Mobile Terminal Platform (OMTP) in 2007.\n",
    "- Micro-USB was embraced as the \"Universal Charging Solution\" by the International Telecommunication Union (ITU) in October 2009.\n",
    "- In Europe, micro-USB became the defined common external power supply (EPS) for use with smartphones sold in the EU, and 14 of the world's largest mobile phone manufacturers signed the EU's common EPS Memorandum of Understanding (2009)\n",
    "\n",
    "(Source: [Wikipedia](https://en.wikipedia.org/wiki/USB_hardware#OMTP_standard))"
   ]
  },
  {
   "cell_type": "markdown",
   "metadata": {
    "slideshow": {
     "slide_type": "subslide"
    }
   },
   "source": [
    "![CubeSat](img/cubesat.png)\n",
    "\n",
    "**Enter CubeSats!**"
   ]
  },
  {
   "cell_type": "markdown",
   "metadata": {
    "slideshow": {
     "slide_type": "subslide"
    }
   },
   "source": [
    "![CubeSat specification](img/cubesat-spec.png)\n",
    "\n",
    "https://www.cubesat.org/cubesatinfo"
   ]
  },
  {
   "cell_type": "markdown",
   "metadata": {
    "slideshow": {
     "slide_type": "subslide"
    }
   },
   "source": [
    "![PocketQube](img/fossasat-1.png)\n",
    "\n",
    "https://fossa.systems/fossasat-1/"
   ]
  },
  {
   "cell_type": "markdown",
   "metadata": {
    "slideshow": {
     "slide_type": "subslide"
    }
   },
   "source": [
    "![Sprites](img/sprite.jpg)\n",
    "\n",
    "https://fossa.systems/fossasat-1/"
   ]
  },
  {
   "cell_type": "markdown",
   "metadata": {
    "slideshow": {
     "slide_type": "subslide"
    }
   },
   "source": [
    "![ISO Standards](img/iso.png)"
   ]
  },
  {
   "cell_type": "markdown",
   "metadata": {
    "slideshow": {
     "slide_type": "notes"
    }
   },
   "source": [
    "- The Internet & the Web, systems of physical units...\n",
    "- http://www.npes.org/pdf/Standards-WhatAreThey.pdf\n",
    "- http://www.infoterm.info/pdf/about_us/10_good_reasons.pdf"
   ]
  },
  {
   "cell_type": "markdown",
   "metadata": {
    "slideshow": {
     "slide_type": "notes"
    }
   },
   "source": [
    "# \\<NewSpace\\>\n",
    "\n",
    "- https://www.airbus.com/public-affairs/brussels/our-topics/space/new-space.html\n",
    "- https://www.wikiwand.com/es/NewSpace\n",
    "- https://sci-hub.se/10.1089/space.2016.0027\n",
    "- https://www.eib.org/attachments/thematic/future_of_european_space_sector_en.pdf\n",
    "- https://blog.satsearch.co/2019-02-26-lets-talk-about-newspace\n",
    "- https://wanderingalpha.com/new-space-vs-old-space\n",
    "- https://www.iceye.com/company/new-space-movement"
   ]
  },
  {
   "cell_type": "markdown",
   "metadata": {
    "slideshow": {
     "slide_type": "notes"
    }
   },
   "source": [
    "# \\<SpaceX and Linux\\>\n",
    "\n",
    "- https://checkersaga.com/the-classics-never-fail-spacex-used-linux-and-the-c-language-to-put-astronauts-into-orbit/47486/\n",
    "- https://lwn.net/Articles/540368/\n",
    "- https://tuataras.net/en/blog-us/spacex-uses-the-linux-software-and-classic-programming-languages-to-dominate-space/"
   ]
  },
  {
   "cell_type": "markdown",
   "metadata": {
    "slideshow": {
     "slide_type": "slide"
    }
   },
   "source": [
    "# SpaceX and Linux\n",
    "\n",
    "![SpaceX and Linux](img/spacex-linux.png)\n",
    "\n",
    "- https://samagame.com/en/this-is-the-software-that-works-wonders-in-spacexs-falcon-9-linux-and-a-triple-redundancy-system-to-avoid-outages/\n",
    "- https://lwn.net/Articles/540368/\n",
    "- https://tuataras.net/en/blog-us/spacex-uses-the-linux-software-and-classic-programming-languages-to-dominate-space/"
   ]
  },
  {
   "cell_type": "markdown",
   "metadata": {
    "slideshow": {
     "slide_type": "subslide"
    }
   },
   "source": [
    "# Satellogic, Linux & Python\n",
    "\n",
    "![Satellogic & FOSS](img/satellogic-foss.png)"
   ]
  },
  {
   "cell_type": "markdown",
   "metadata": {
    "slideshow": {
     "slide_type": "subslide"
    }
   },
   "source": [
    "# Satellogic, Linux & Python\n",
    "\n",
    "![Satellogic & FOSS](img/satellogic-everything-is-software.png)"
   ]
  },
  {
   "cell_type": "markdown",
   "metadata": {
    "slideshow": {
     "slide_type": "subslide"
    }
   },
   "source": [
    "# Satellogic, Linux & Python\n",
    "\n",
    "![Satellogic & FOSS](img/satellogic-python.png)"
   ]
  },
  {
   "cell_type": "markdown",
   "metadata": {
    "slideshow": {
     "slide_type": "slide"
    }
   },
   "source": [
    "# Let's practice\n",
    "\n",
    "![Talk is cheap, show me the code](img/talk-is-cheap.jpg)"
   ]
  },
  {
   "cell_type": "markdown",
   "metadata": {
    "slideshow": {
     "slide_type": "slide"
    }
   },
   "source": [
    "# Conclusions\n",
    "\n",
    "- Software is an essential pillar of the space industry\n",
    "- Custom software offers flexibility, customization and unbounded scalability with respect to COTS solutions\n",
    "- **Python** has a vast ecosystem of packages and libraries for many tasks\n",
    "\n",
    "📬 <hello@juanlu.space>\n",
    "\n",
    "![Rocket](img/rocket.jpg)"
   ]
  }
 ],
 "metadata": {
  "celltoolbar": "Slideshow",
  "kernelspec": {
   "display_name": "Python 3",
   "language": "python",
   "name": "python3"
  },
  "language_info": {
   "codemirror_mode": {
    "name": "ipython",
    "version": 3
   },
   "file_extension": ".py",
   "mimetype": "text/x-python",
   "name": "python",
   "nbconvert_exporter": "python",
   "pygments_lexer": "ipython3",
   "version": "3.8.5"
  }
 },
 "nbformat": 4,
 "nbformat_minor": 4
}

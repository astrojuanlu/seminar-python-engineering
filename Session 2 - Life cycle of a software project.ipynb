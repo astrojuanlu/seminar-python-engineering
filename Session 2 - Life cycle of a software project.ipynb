{
 "cells": [
  {
   "cell_type": "markdown",
   "metadata": {
    "slideshow": {
     "slide_type": "slide"
    }
   },
   "source": [
    "<header style=\"background-image: url('img/rocket.jpg'); background-size: cover; padding: 50px 0;font-size: 1.5em;background-repeat: no-repeat;\">\n",
    "  <div style=\"padding: 10px 25px; background-color: #fff9 !important;\">\n",
    "      <h1 style=\"color: black;text-shadow: #999 5px 5px 0px\">Do engineers dream of electric snakes?</h1>\n",
    "      <h2 style=\"color: #eee;\">2. Life cycle of a software project</h2>\n",
    "      <h3 style=\"color: #eee;text-align: right;font-size: 1em;\">Juan Luis Cano Rodríguez &lt;hello@juanlu.space&gt;<br>2020-09-30 @ UC3M</h3>\n",
    "  </div>\n",
    "</header>"
   ]
  },
  {
   "cell_type": "markdown",
   "metadata": {
    "slideshow": {
     "slide_type": "slide"
    }
   },
   "source": [
    "# Outline\n",
    "\n",
    "0. Introduction\n",
    "1. Use of Python in the Aerospace industry\n",
    "2. **Life cycle of a software project**\n",
    "  - How do you write software?\n",
    "  - Software is unreliable\n",
    "    - A few examples from the Aerospace industry\n",
    "  - Software development methodologies\n",
    "  - Live coding"
   ]
  },
  {
   "cell_type": "markdown",
   "metadata": {
    "slideshow": {
     "slide_type": "slide"
    }
   },
   "source": [
    "# Who is this guy?\n",
    "\n",
    "* **Aerospace Engineer** with a passion for orbits 🛰\n",
    "* Former chair of the **Python España** non profit and former co-organizer of **PyCon Spain** 🐍\n",
    "* **Mission Planning & Execution Engineer** at **Satellogic** 🌍\n",
    "* Free Software advocate and Python enthusiast 🕮\n",
    "* Hard Rock lover 🎸\n",
    "\n",
    "Follow me! https://github.com/astrojuanlu/\n",
    "\n",
    "![Me!](img/juanlu_esa.jpg)"
   ]
  },
  {
   "cell_type": "markdown",
   "metadata": {
    "slideshow": {
     "slide_type": "notes"
    }
   },
   "source": [
    "## Abridged CV\n",
    "\n",
    "- **Airbus** (2014-2015): **Python** for Graphical User Interfaces, data analysis, Excel automation\n",
    "- **GMV** (2015-2016): **Fortran** for Flight Dynamics software\n",
    "- **BBVA** (2016): **Python** for _more complex_ Excel automation, reporting\n",
    "- **Boeing R&T** (2016-2017, freelance): **Python** for flight trajectory prediction\n",
    "- **Synergic Partners (Telefónica)** (2016-2017): **Python** for Data Science, anomaly detection\n",
    "- **Satellogic** (2017-present): **Python** for geospatial processing, orbit analysis, scheduling optimization, in-orbit execution\n",
    "- **Deep Blue Globe** (2018-2019, freelance): **Python** for climate data processing"
   ]
  },
  {
   "cell_type": "markdown",
   "metadata": {
    "slideshow": {
     "slide_type": "slide"
    }
   },
   "source": [
    "# How do you write software?"
   ]
  },
  {
   "cell_type": "markdown",
   "metadata": {
    "slideshow": {
     "slide_type": "fragment"
    }
   },
   "source": [
    "![MATLAB mess](img/matlab-mess.png)"
   ]
  },
  {
   "cell_type": "markdown",
   "metadata": {
    "slideshow": {
     "slide_type": "fragment"
    }
   },
   "source": [
    "- Do you **trust** your code?"
   ]
  },
  {
   "cell_type": "markdown",
   "metadata": {
    "slideshow": {
     "slide_type": "fragment"
    }
   },
   "source": [
    "- Do you **trust** your _tools_?"
   ]
  },
  {
   "cell_type": "markdown",
   "metadata": {
    "slideshow": {
     "slide_type": "subslide"
    }
   },
   "source": [
    "![Can we trust CAS?](img/can-we-trust-cas.png)\n",
    "\n",
    "http://dx.doi.org/10.1090/noti1173"
   ]
  },
  {
   "cell_type": "markdown",
   "metadata": {
    "slideshow": {
     "slide_type": "subslide"
    }
   },
   "source": [
    "> With the help of Mathematica, one of us found some counterexamples to our conjectures. Fortunately, another one of us was using Maple and, when checking those supposed counterexamples, found that they were not counterexamples at all. **After revising  our  algorithms  from  scratch,  we concluded that either the computations performed with Mathematica or the computations performed with Maple had to be wrong**."
   ]
  },
  {
   "cell_type": "markdown",
   "metadata": {
    "slideshow": {
     "slide_type": "fragment"
    }
   },
   "source": [
    "> Things started to become clear when the colleague using Mathematica  also  found  some  \"counterexamples\"  to  the above-mentioned result of Karlin and Szegö for the case in (1) and, even more dramatically, his algorithm yielded different outputs given the same inputs. **Our conclusion was that Mathematica was computing incorrectly.**"
   ]
  },
  {
   "cell_type": "markdown",
   "metadata": {
    "slideshow": {
     "slide_type": "subslide"
    }
   },
   "source": [
    "# Software is unreliable\n",
    "\n",
    "And annoying, and messy, and...\n",
    "\n",
    "![Excel vs genes](img/excel-genes.png)\n",
    "\n",
    "https://www.theverge.com/2020/8/6/21355674/human-genes-rename-microsoft-excel-misreading-dates"
   ]
  },
  {
   "cell_type": "markdown",
   "metadata": {
    "slideshow": {
     "slide_type": "subslide"
    }
   },
   "source": [
    "![Boeing 787 integer overflow](img/787-bug.png)\n",
    "\n",
    "https://www.theguardian.com/business/2015/may/01/us-aviation-authority-boeing-787-dreamliner-bug-could-cause-loss-of-control"
   ]
  },
  {
   "cell_type": "markdown",
   "metadata": {
    "slideshow": {
     "slide_type": "subslide"
    }
   },
   "source": [
    "![Boeing 787 integer overflow (tweet)](img/787-tweet.png)"
   ]
  },
  {
   "cell_type": "markdown",
   "metadata": {
    "slideshow": {
     "slide_type": "subslide"
    }
   },
   "source": [
    "![Crater Schiaparelli](img/schiaparelli.jpg)\n",
    "\n",
    "https://exploration.esa.int/web/mars/-/59176-exomars-2016-schiaparelli-anomaly-inquiry"
   ]
  },
  {
   "cell_type": "markdown",
   "metadata": {
    "slideshow": {
     "slide_type": "subslide"
    }
   },
   "source": [
    "![Schiaparelli Anomaly Inquiry (excerpt)](img/schiaparelli-1.png)"
   ]
  },
  {
   "cell_type": "markdown",
   "metadata": {
    "slideshow": {
     "slide_type": "subslide"
    }
   },
   "source": [
    "![Schiaparelli Anomaly Inquiry (excerpt)](img/schiaparelli-2.png)"
   ]
  },
  {
   "cell_type": "markdown",
   "metadata": {
    "slideshow": {
     "slide_type": "subslide"
    }
   },
   "source": [
    "![Schiaparelli Anomaly Inquiry (excerpt)](img/schiaparelli-3.png)"
   ]
  },
  {
   "cell_type": "markdown",
   "metadata": {
    "slideshow": {
     "slide_type": "subslide"
    }
   },
   "source": [
    "![Schiaparelli Anomaly Inquiry (excerpt)](img/schiaparelli-4.png)"
   ]
  },
  {
   "cell_type": "markdown",
   "metadata": {
    "slideshow": {
     "slide_type": "slide"
    }
   },
   "source": [
    "# Let's practice\n",
    "\n",
    "![Talk is cheap, show me the code](img/talk-is-cheap.jpg)"
   ]
  },
  {
   "cell_type": "markdown",
   "metadata": {
    "slideshow": {
     "slide_type": "slide"
    }
   },
   "source": [
    "# Conclusions\n",
    "\n",
    "- Software development is a complex task, prone to error, and must be conducted with care\n",
    "- Frequent testing, short feedback loops, iterative development and engineer happiness make software more reliable\n",
    "- As \"software eats the world\" and engineering needs more of it, we need to improve our processes and solidify our methodologies to achieve acceptable levels of reliability\n",
    "\n",
    "📬 <hello@juanlu.space>\n",
    "\n",
    "![Rocket](img/rocket.jpg)"
   ]
  }
 ],
 "metadata": {
  "celltoolbar": "Slideshow",
  "kernelspec": {
   "display_name": "Python 3",
   "language": "python",
   "name": "python3"
  },
  "language_info": {
   "codemirror_mode": {
    "name": "ipython",
    "version": 3
   },
   "file_extension": ".py",
   "mimetype": "text/x-python",
   "name": "python",
   "nbconvert_exporter": "python",
   "pygments_lexer": "ipython3",
   "version": "3.8.5"
  }
 },
 "nbformat": 4,
 "nbformat_minor": 4
}
